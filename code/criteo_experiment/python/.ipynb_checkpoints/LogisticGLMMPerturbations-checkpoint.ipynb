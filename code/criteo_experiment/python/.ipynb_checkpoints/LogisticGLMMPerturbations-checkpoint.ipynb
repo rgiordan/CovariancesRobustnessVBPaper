{
 "cells": [
  {
   "cell_type": "code",
   "execution_count": 1,
   "metadata": {
    "scrolled": true
   },
   "outputs": [],
   "source": [
    "import LinearResponseVariationalBayes as vb\n",
    "import LinearResponseVariationalBayes.ExponentialFamilies as ef\n",
    "\n",
    "import logistic_glmm_lib as logit_glmm\n",
    "import LinearResponseVariationalBayes.SparseObjectives as obj_lib\n",
    "\n",
    "import matplotlib.pyplot as plt\n",
    "%matplotlib inline\n",
    "\n",
    "import autograd\n",
    "import autograd.numpy as np\n",
    "\n",
    "import copy\n",
    "from scipy import optimize\n",
    "\n",
    "import os\n",
    "import json\n",
    "import subprocess\n",
    "\n",
    "import time\n",
    "\n",
    "import pickle\n"
   ]
  },
  {
   "cell_type": "code",
   "execution_count": 2,
   "metadata": {
    "scrolled": true
   },
   "outputs": [],
   "source": [
    "# Load data saved by stan_results_to_json.R and run_stan.R in LRVBLogitGLMM.\n",
    "\n",
    "#analysis_name = 'simulated_data_small'\n",
    "analysis_name = 'criteo_subsampled'\n",
    "\n",
    "git_dir_cmd = subprocess.run(\n",
    "    ['git', 'rev-parse', '--show-toplevel'], stdout=subprocess.PIPE)\n",
    "assert git_dir_cmd.returncode == 0\n",
    "git_dir = git_dir_cmd.stdout.decode(\"utf-8\").strip()\n",
    "\n",
    "data_dir = os.path.join(git_dir, 'code/criteo_experiment/data')\n",
    "\n",
    "pickle_output_filename = os.path.join(data_dir, '%s_python_vb_results.pkl' % analysis_name)\n",
    "\n",
    "pkl_file = open(pickle_output_filename, 'rb')\n",
    "vb_results = pickle.load(pkl_file)\n"
   ]
  },
  {
   "cell_type": "code",
   "execution_count": 3,
   "metadata": {
    "scrolled": true
   },
   "outputs": [
    {
     "name": "stdout",
     "output_type": "stream",
     "text": [
      "dict_keys(['y', 'beta_prior_mean', 'beta_prior_info', 'tau_prior_beta', 'tau_prior_alpha', 'x', 'N', 'NG', 'mu_prior_mean', 'mu_prior_info', 'K', 'y_group'])\n",
      "dict_keys(['num_gh_points', 'hess_time', 'lrvb_cov', 'glmm_par_vector', 'cg_row_time', 'kl_hess_packed', 'y_g_vec', 'num_groups', 'glmm_par_free', 'kl_inv_moment_jac', 'beta_dim', 'x_mat', 'y_vec', 'run_name', 'moment_jac', 'inverse_time', 'vb_time', 'num_cg_iterations', 'log_prior_hess', 'prior_par_vec', 'vb_prior_sens'])\n"
     ]
    }
   ],
   "source": [
    "json_filename = os.path.join(data_dir, '%s_stan_dat.json' % analysis_name)\n",
    "y_g_vec, y_vec, x_mat, glmm_par, prior_par = logit_glmm.load_json_data(json_filename)\n",
    "\n",
    "K = x_mat.shape[1]\n",
    "NG = np.max(y_g_vec) + 1\n",
    "\n",
    "# Define moment parameters\n",
    "moment_wrapper = logit_glmm.MomentWrapper(glmm_par)\n",
    "glmm_par = logit_glmm.get_glmm_parameters(K=K, NG=NG)\n",
    "glmm_par.set_free(vb_results['glmm_par_free'])\n",
    "model = logit_glmm.LogisticGLMM(\n",
    "    glmm_par, prior_par, x_mat, y_vec, y_g_vec, vb_results['num_gh_points'])\n",
    "objective = obj_lib.Objective(model.glmm_par, model.get_kl)\n",
    "moment_wrapper = logit_glmm.MomentWrapper(glmm_par)\n",
    "moment_vec = moment_wrapper.get_moment_vector_from_free(vb_results['glmm_par_free'])\n",
    "\n",
    "print(vb_results.keys())"
   ]
  },
  {
   "cell_type": "code",
   "execution_count": null,
   "metadata": {
    "collapsed": true,
    "scrolled": true
   },
   "outputs": [],
   "source": [
    "glmm_par_opt = copy.deepcopy(glmm_par)\n",
    "def tr_optimize(trust_init, prior_par, gtol=1e-6, maxiter=500):\n",
    "    model.prior_par.set_vector(prior_par.get_vector())\n",
    "    objective.logger.initialize()\n",
    "    objective.logger.print_every = 5\n",
    "    vb_opt = optimize.minimize(\n",
    "        lambda par: objective.fun_free(par, verbose=True),\n",
    "        x0=trust_init,\n",
    "        method='trust-ncg',\n",
    "        jac=objective.fun_free_grad,\n",
    "        hessp=objective.fun_free_hvp,\n",
    "        tol=1e-6, options={'maxiter': maxiter, 'disp': True, 'gtol': gtol })\n",
    "    return vb_opt.x\n"
   ]
  },
  {
   "cell_type": "code",
   "execution_count": null,
   "metadata": {
    "scrolled": true
   },
   "outputs": [
    {
     "name": "stdout",
     "output_type": "stream",
     "text": [
      "Epsilon:  0.0\n",
      "Iter  0  value:  22970.0291467\n",
      "Warning: A bad approximation caused failure to predict improvement.\n",
      "         Current function value: 22970.029147\n",
      "         Iterations: 0\n",
      "         Function evaluations: 2\n",
      "         Gradient evaluations: 1\n",
      "         Hessian evaluations: 0\n",
      "Epsilon:  0.526315789474\n",
      "Iter  0  value:  22971.090388\n",
      "Iter  5  value:  22971.0779542\n",
      "Optimization terminated successfully.\n",
      "         Current function value: 22971.068067\n",
      "         Iterations: 9\n",
      "         Function evaluations: 10\n",
      "         Gradient evaluations: 10\n",
      "         Hessian evaluations: 0\n",
      "Epsilon:  1.05263157895\n",
      "Iter  0  value:  22972.0851427\n",
      "Iter  5  value:  22972.0738743\n",
      "Iter  10  value:  22972.0642094\n",
      "Optimization terminated successfully.\n",
      "         Current function value: 22972.064209\n",
      "         Iterations: 10\n",
      "         Function evaluations: 11\n",
      "         Gradient evaluations: 11\n",
      "         Hessian evaluations: 0\n",
      "Epsilon:  1.57894736842\n",
      "Iter  0  value:  22973.0398547\n",
      "Iter  5  value:  22973.0289466\n",
      "Iter  10  value:  22973.0201945\n",
      "Optimization terminated successfully.\n",
      "         Current function value: 22973.020195\n",
      "         Iterations: 10\n",
      "         Function evaluations: 11\n",
      "         Gradient evaluations: 11\n",
      "         Hessian evaluations: 0\n",
      "Epsilon:  2.10526315789\n",
      "Iter  0  value:  22973.9569206\n",
      "Iter  5  value:  22973.9463599\n",
      "Iter  10  value:  22973.9384311\n",
      "Optimization terminated successfully.\n",
      "         Current function value: 22973.938431\n",
      "         Iterations: 10\n",
      "         Function evaluations: 11\n",
      "         Gradient evaluations: 11\n",
      "         Hessian evaluations: 0\n",
      "Epsilon:  2.63157894737\n",
      "Iter  0  value:  22974.8385473\n",
      "Iter  5  value:  22974.828322\n",
      "Iter  10  value:  22974.821136\n",
      "Optimization terminated successfully.\n",
      "         Current function value: 22974.821136\n",
      "         Iterations: 10\n",
      "         Function evaluations: 11\n",
      "         Gradient evaluations: 11\n",
      "         Hessian evaluations: 0\n",
      "Epsilon:  3.15789473684\n",
      "Iter  0  value:  22975.6867702\n",
      "Iter  5  value:  22975.6768692\n",
      "Iter  10  value:  22975.670354\n",
      "Optimization terminated successfully.\n",
      "         Current function value: 22975.670354\n",
      "         Iterations: 10\n",
      "         Function evaluations: 11\n",
      "         Gradient evaluations: 11\n",
      "         Hessian evaluations: 0\n",
      "Epsilon:  3.68421052632\n",
      "Iter  0  value:  22976.5034704\n",
      "Iter  5  value:  22976.4938831\n",
      "Iter  10  value:  22976.487974\n",
      "Optimization terminated successfully.\n",
      "         Current function value: 22976.487974\n",
      "         Iterations: 10\n",
      "         Function evaluations: 11\n",
      "         Gradient evaluations: 11\n",
      "         Hessian evaluations: 0\n",
      "Epsilon:  4.21052631579\n",
      "Iter  0  value:  22977.2903886\n",
      "Iter  5  value:  22977.2811027\n"
     ]
    }
   ],
   "source": [
    "\n",
    "perturb_prior_par = 'mu_prior_info'\n",
    "epsilon_list = np.linspace(0.0, 10.0, 20)\n",
    "moment_vec_list = []\n",
    "\n",
    "glmm_opt_pert = vb_results['glmm_par_free']\n",
    "vb_refit_time = time.time()\n",
    "for epsilon in epsilon_list:\n",
    "    print('Epsilon: ', epsilon)\n",
    "    prior_par_pert = copy.deepcopy(prior_par)\n",
    "    prior_par_pert[perturb_prior_par].set(prior_par[perturb_prior_par].get() + epsilon)\n",
    "\n",
    "    glmm_opt_pert = tr_optimize(trust_init=glmm_opt_pert, prior_par=prior_par_pert)\n",
    "    moment_vec_list.append(moment_wrapper.get_moment_vector_from_free(glmm_opt_pert))\n",
    "    \n",
    "vb_refit_time = time.time() - vb_refit_time"
   ]
  },
  {
   "cell_type": "code",
   "execution_count": null,
   "metadata": {
    "scrolled": true
   },
   "outputs": [],
   "source": [
    "prior_indices = copy.deepcopy(prior_par)\n",
    "prior_indices.set_vector(np.arange(prior_indices.vector_size()))\n",
    "mu_info_col = prior_indices[perturb_prior_par].get()[0]\n",
    "\n",
    "pred_sens_vec = vb_results['vb_prior_sens'][:, mu_info_col]\n",
    "\n",
    "moment_wrapper.moment_par.set_vector(pred_sens_vec)\n",
    "mu_pred_sens = moment_wrapper.moment_par['e_mu'].get()[0]\n",
    "\n",
    "moment_wrapper.moment_par.set_vector(moment_vec)\n",
    "\n",
    "def GetEMu(moment_vec):\n",
    "    moment_wrapper.moment_par.set_vector(moment_vec)\n",
    "    return np.squeeze(moment_wrapper.moment_par['e_mu'].get())\n",
    "    \n",
    "e_mu_list = [ GetEMu(moment_vec) for moment_vec in moment_vec_list ]\n",
    "e_mu_base = e_mu_list[0]\n",
    "\n",
    "plt.plot(epsilon_list, e_mu_list - e_mu_base, 'k.')\n",
    "plt.plot(epsilon_list, e_mu_list - e_mu_base, 'k')\n",
    "plt.plot(epsilon_list, epsilon_list * mu_pred_sens, 'r')\n",
    "\n",
    "print('Refit time: ', vb_refit_time)\n",
    "\n",
    "# Note that this includes a \"refit\" at the zero point -- let's just remove it\n",
    "# and bias the result slightly against us.\n",
    "print('Refit time per iteration: ', vb_refit_time / (len(epsilon_list) - 1))"
   ]
  },
  {
   "cell_type": "code",
   "execution_count": null,
   "metadata": {},
   "outputs": [],
   "source": [
    "pickle_output_filename = os.path.join(data_dir, '%s_python_vb_perturbation_results.pkl' % analysis_name)\n",
    "pickle_output = open(pickle_output_filename, 'wb')\n",
    "\n",
    "# Unlike with JSON, numpy arrays can be pickled.\n",
    "pickle_result_dict = {  'pickle_output_filename': pickle_output_filename,\n",
    "                        'vb_refit_time': vb_refit_time,\n",
    "                        'epsilon_list': epsilon_list,\n",
    "                        'moment_vec_list': moment_vec_list,\n",
    "                        'perturb_prior_par': perturb_prior_par\n",
    "                     }\n",
    "\n",
    "# Pickle dictionary using protocol 0.\n",
    "pickle.dump(pickle_result_dict, pickle_output)\n",
    "pickle_output.close()\n",
    "\n",
    "print(pickle_output_filename)\n",
    "\n",
    "\n",
    "print('\\n\\nDONE.')\n"
   ]
  }
 ],
 "metadata": {
  "kernelspec": {
   "display_name": "Python 3",
   "language": "python",
   "name": "python3"
  },
  "language_info": {
   "codemirror_mode": {
    "name": "ipython",
    "version": 3
   },
   "file_extension": ".py",
   "mimetype": "text/x-python",
   "name": "python",
   "nbconvert_exporter": "python",
   "pygments_lexer": "ipython3",
   "version": "3.5.2"
  }
 },
 "nbformat": 4,
 "nbformat_minor": 2
}
