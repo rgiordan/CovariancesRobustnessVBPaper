{
 "cells": [
  {
   "cell_type": "code",
   "execution_count": 12,
   "metadata": {},
   "outputs": [],
   "source": [
    "import autograd\n",
    "import autograd.numpy as np\n",
    "import copy\n",
    "import json\n",
    "import LinearResponseVariationalBayes as vb\n",
    "from LinearResponseVariationalBayes.SparseObjectives import Objective\n",
    "import logistic_glmm_lib as logit_glmm\n",
    "import matplotlib.pyplot as plt\n",
    "%matplotlib inline\n",
    "import os\n",
    "import pickle\n",
    "from scipy import optimize\n",
    "import subprocess\n",
    "import time"
   ]
  },
  {
   "cell_type": "code",
   "execution_count": 8,
   "metadata": {},
   "outputs": [],
   "source": [
    "# Load data saved by stan_results_to_json.R and run_stan.R in LRVBLogitGLMM.\n",
    "\n",
    "#analysis_name = 'simulated_data_small'\n",
    "analysis_name = 'criteo_subsampled'\n",
    "\n",
    "git_dir_cmd = subprocess.run(\n",
    "    ['git', 'rev-parse', '--show-toplevel'], stdout=subprocess.PIPE)\n",
    "assert git_dir_cmd.returncode == 0\n",
    "git_dir = git_dir_cmd.stdout.decode(\"utf-8\").strip()\n",
    "\n",
    "data_dir = os.path.join(git_dir, 'code/criteo_experiment/data')\n",
    "\n",
    "pickle_output_filename = os.path.join(data_dir, '%s_python_vb_results.pkl' % analysis_name)\n",
    "\n",
    "pkl_file = open(pickle_output_filename, 'rb')\n",
    "vb_results = pickle.load(pkl_file)\n"
   ]
  },
  {
   "cell_type": "code",
   "execution_count": 10,
   "metadata": {},
   "outputs": [
    {
     "name": "stdout",
     "output_type": "stream",
     "text": [
      "dict_keys(['N', 'y_group', 'beta_prior_mean', 'tau_prior_beta', 'tau_prior_alpha', 'y', 'mu_prior_mean', 'x', 'mu_prior_info', 'beta_prior_info', 'K', 'NG'])\n"
     ]
    }
   ],
   "source": [
    "json_filename = os.path.join(data_dir, '%s_stan_dat.json' % analysis_name)\n",
    "y_g_vec, y_vec, x_mat, glmm_par, prior_par = logit_glmm.load_json_data(json_filename)\n",
    "\n",
    "K = x_mat.shape[1]\n",
    "NG = np.max(y_g_vec) + 1\n",
    "\n",
    "# Define moment parameters\n",
    "moment_wrapper = logit_glmm.MomentWrapper(glmm_par)\n",
    "glmm_par = logit_glmm.get_glmm_parameters(K=K, NG=NG)\n"
   ]
  },
  {
   "cell_type": "code",
   "execution_count": 13,
   "metadata": {},
   "outputs": [
    {
     "name": "stdout",
     "output_type": "stream",
     "text": [
      "-25741.730205805197\n",
      "25741.7302058\n"
     ]
    }
   ],
   "source": [
    "mle_par = logit_glmm.get_mle_parameters(K=K, NG=NG)\n",
    "glmm_par = logit_glmm.get_glmm_parameters(K=K, NG=NG)\n",
    "glmm_par.set_free(vb_results['glmm_par_free'])\n",
    "\n",
    "set_from_glmer = False\n",
    "if set_from_glmer:\n",
    "    mle_par['beta'].set(np.array(glmer_dat['beta_mean']))\n",
    "    mle_par['mu'].set(np.array(glmer_dat['mu_mean']))\n",
    "    mle_par['tau'].set(np.array(glmer_dat['tau_mean']))\n",
    "    mle_par['u'].set(np.array(glmer_dat['u_map']))\n",
    "else:\n",
    "    # Set from VB\n",
    "    mle_par['beta'].set(glmm_par['beta'].e())\n",
    "    mle_par['mu'].set(glmm_par['mu'].e())\n",
    "    mle_par['tau'].set(glmm_par['tau'].e())\n",
    "    mle_par['u'].set(glmm_par['u'].e())\n",
    "\n",
    "model = logit_glmm.LogisticGLMMMaximumLikelihood(mle_par, prior_par, x_mat, y_vec, y_g_vec)\n",
    "print(model.get_log_lik())\n",
    "\n",
    "objective = Objective(fun=model.get_log_loss, par=model.mle_par)\n",
    "print(objective.fun_free(model.mle_par.get_free()))"
   ]
  },
  {
   "cell_type": "code",
   "execution_count": 14,
   "metadata": {},
   "outputs": [
    {
     "name": "stdout",
     "output_type": "stream",
     "text": [
      "Iter  0  value:  98754.5826125\n",
      "Iter  20  value:  20208.0474338\n",
      "Iter  40  value:  15160.0940206\n",
      "Optimization terminated successfully.\n",
      "         Current function value: 15150.478269\n",
      "         Iterations: 51\n",
      "         Function evaluations: 52\n",
      "         Gradient evaluations: 52\n",
      "         Hessian evaluations: 0\n",
      "9.987465858459473\n"
     ]
    }
   ],
   "source": [
    "\n",
    "#u_free_init = model.mle_par['u'].get_free()\n",
    "u_free_init = np.random.random(model.mle_par.free_size())\n",
    "objective.logger.initialize()\n",
    "objective.logger.print_every = 20\n",
    "map_time = time.time()\n",
    "mle_opt = optimize.minimize(\n",
    "    lambda par: objective.fun_free(par, verbose=True),\n",
    "    x0=u_free_init,\n",
    "    method='trust-ncg',\n",
    "    jac=objective.fun_free_grad,\n",
    "    hessp=objective.fun_free_hvp,\n",
    "    tol=1e-6, options={'maxiter': 200, 'disp': True, 'gtol': 1e-6 })\n",
    "map_time = time.time() - map_time\n",
    "free_opt = mle_opt.x\n",
    "\n",
    "print(map_time)"
   ]
  },
  {
   "cell_type": "code",
   "execution_count": 15,
   "metadata": {},
   "outputs": [
    {
     "data": {
      "text/plain": [
       "[<matplotlib.lines.Line2D at 0x7f2aff19f7b8>]"
      ]
     },
     "execution_count": 15,
     "metadata": {},
     "output_type": "execute_result"
    },
    {
     "data": {
      "image/png": "[encoded data removed]",
      "text/plain": [
       "<matplotlib.figure.Figure at 0x7f2ade7d3d30>"
      ]
     },
     "metadata": {},
     "output_type": "display_data"
    }
   ],
   "source": [
    "model.mle_par.set_free(free_opt)\n",
    "tau_mle = model.mle_par['u'].get()\n",
    "u_mle = model.mle_par['u'].get()\n",
    "\n",
    "glmm_par.set_free(vb_results['glmm_par_free'])\n",
    "u_vb = glmm_par['u'].e()\n",
    "\n",
    "plt.plot(u_vb, u_mle, 'k.')"
   ]
  },
  {
   "cell_type": "code",
   "execution_count": 16,
   "metadata": {},
   "outputs": [
    {
     "name": "stdout",
     "output_type": "stream",
     "text": [
      "Moment Parameters:\n",
      "\te_beta:\n",
      "[ 2.00647029  0.20463093  0.07292781 -0.14962083  0.2682709 ]\n",
      "\te_mu: [ 3.81171142]\n",
      "\te_tau: [ 827.95272222]\n",
      "\te_log_tau: [ 6.71895605]\n",
      "\te_u:\n",
      "[ 3.81157149  3.81142902  3.81139144 ...,  3.80783941  3.81265161\n",
      "  3.81383214]\n",
      "---------\n",
      "\n",
      "Moment Parameters:\n",
      "\te_beta:\n",
      "[ 1.47330851  0.04371752  0.084612   -0.15316602  0.26508213]\n",
      "\te_mu: [ 2.00810095]\n",
      "\te_tau: [ 0.80839006]\n",
      "\te_log_tau: [-0.21291037]\n",
      "\te_u:\n",
      "[ 1.86038151  1.74266321  1.71740155 ...,  0.70991199  2.83597731\n",
      "  2.85176657]\n"
     ]
    }
   ],
   "source": [
    "model.mle_par.set_free(free_opt)\n",
    "mle_moment_par = logit_glmm.set_moment_par_from_mle(moment_wrapper.moment_par, model.mle_par)\n",
    "print(mle_moment_par)\n",
    "mle_moment_par_vector = copy.deepcopy(mle_moment_par.get_vector())\n",
    "\n",
    "print('---------\\n')\n",
    "moment_wrapper.set_moments(vb_results['glmm_par_free'])\n",
    "print(moment_wrapper.moment_par)"
   ]
  },
  {
   "cell_type": "code",
   "execution_count": 18,
   "metadata": {},
   "outputs": [
    {
     "name": "stdout",
     "output_type": "stream",
     "text": [
      "/home/rgiordan/Documents/git_repos/CovariancesRobustnessVBPaper/code/data/criteo_subsampled_python_vb_map_results.pkl\n",
      "\n",
      "\n",
      "DONE.\n"
     ]
    }
   ],
   "source": [
    "# Write the result to a JSON file for use in R.\n",
    "\n",
    "pickle_output_filename = os.path.join(data_dir, '%s_python_vb_map_results.pkl' % analysis_name)\n",
    "pickle_output = open(pickle_output_filename, 'wb')\n",
    "\n",
    "# Unlike with JSON, numpy arrays can be pickled.\n",
    "model.mle_par.set_free(free_opt)\n",
    "pickle_result_dict = {  'pickle_output_filename': pickle_output_filename,\n",
    "                        'map_time': map_time,\n",
    "                        'mle_moment_par_vector': mle_moment_par_vector,\n",
    "                        'mle_par_dictval': model.mle_par.dictval(),\n",
    "                        'mle_par_vector': model.mle_par.get_vector(),\n",
    "                        'mle_par_free': model.mle_par.get_free()\n",
    "                     }\n",
    "pickle.dump(pickle_result_dict, pickle_output)\n",
    "pickle_output.close()\n",
    "\n",
    "print(pickle_output_filename)\n",
    "\n",
    "print('\\n\\nDone.')\n"
   ]
  }
 ],
 "metadata": {
  "kernelspec": {
   "display_name": "criteo_experiment_jmlr1951",
   "language": "python",
   "name": "criteo_experiment_jmlr1951"
  },
  "language_info": {
   "codemirror_mode": {
    "name": "ipython",
    "version": 3
   },
   "file_extension": ".py",
   "mimetype": "text/x-python",
   "name": "python",
   "nbconvert_exporter": "python",
   "pygments_lexer": "ipython3",
   "version": "3.6.9"
  }
 },
 "nbformat": 4,
 "nbformat_minor": 2
}
