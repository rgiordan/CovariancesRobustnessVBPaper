{
 "cells": [
  {
   "cell_type": "code",
   "execution_count": 2,
   "metadata": {},
   "outputs": [],
   "source": [
    "import LinearResponseVariationalBayes as vb\n",
    "import LinearResponseVariationalBayes.ExponentialFamilies as ef\n",
    "\n",
    "import LogisticGLMM_lib as logit_glmm\n",
    "from LinearResponseVariationalBayes.SparseObjectives import Objective, unpack_csr_matrix\n",
    "\n",
    "import matplotlib.pyplot as plt\n",
    "%matplotlib inline\n",
    "\n",
    "#import numpy as np\n",
    "\n",
    "import autograd\n",
    "import autograd.numpy as np\n",
    "\n",
    "import copy\n",
    "from scipy import optimize\n",
    "\n",
    "import os\n",
    "import json\n",
    "\n",
    "import time\n",
    "\n",
    "import pickle\n"
   ]
  },
  {
   "cell_type": "code",
   "execution_count": null,
   "metadata": {
    "collapsed": true
   },
   "outputs": [],
   "source": [
    "# Load data saved by stan_results_to_json.R and run_stan.R in LRVBLogitGLMM.\n",
    "\n",
    "#analysis_name = 'simulated_data_small'\n",
    "analysis_name = 'criteo_subsampled'\n",
    "\n",
    "data_dir = os.path.join(os.environ['GIT_REPO_LOC'],\n",
    "                        'VariationalBayesPythonWorkbench/Models/LogisticGLMM/data')\n",
    "\n",
    "\n",
    "pickle_output_filename = os.path.join(data_dir, '%s_python_vb_results.pkl' % analysis_name)\n",
    "\n",
    "pkl_file = open(pickle_output_filename, 'rb')\n",
    "vb_results = pickle.load(pkl_file)\n"
   ]
  },
  {
   "cell_type": "code",
   "execution_count": null,
   "metadata": {},
   "outputs": [],
   "source": [
    "json_filename = os.path.join(data_dir, '%s_stan_dat.json' % analysis_name)\n",
    "y_g_vec, y_vec, x_mat, glmm_par, prior_par = logit_glmm.load_json_data(json_filename)\n",
    "\n",
    "# Load the glmer results\n",
    "glmer_json_filename = os.path.join(data_dir, '%s_glmer_results.json' % analysis_name)\n",
    "json_file = open(glmer_json_filename, 'r')\n",
    "glmer_dat = json.load(json_file)\n",
    "json_file.close()\n",
    "\n",
    "K = x_mat.shape[1]\n",
    "NG = np.max(y_g_vec) + 1\n",
    "\n",
    "# Define moment parameters\n",
    "moment_wrapper = logit_glmm.MomentWrapper(glmm_par)\n",
    "glmm_par = logit_glmm.get_glmm_parameters(K=K, NG=NG)\n"
   ]
  },
  {
   "cell_type": "code",
   "execution_count": null,
   "metadata": {},
   "outputs": [],
   "source": [
    "mle_par = logit_glmm.get_mle_parameters(K=K, NG=NG)\n",
    "glmm_par = logit_glmm.get_glmm_parameters(K=K, NG=NG)\n",
    "glmm_par.set_free(vb_results['glmm_par_free'])\n",
    "\n",
    "set_from_glmer = False\n",
    "if set_from_glmer:\n",
    "    mle_par['beta'].set(np.array(glmer_dat['beta_mean']))\n",
    "    mle_par['mu'].set(np.array(glmer_dat['mu_mean']))\n",
    "    mle_par['tau'].set(np.array(glmer_dat['tau_mean']))\n",
    "    mle_par['u'].set(np.array(glmer_dat['u_map']))\n",
    "else:\n",
    "    # Set from VB\n",
    "    mle_par['beta'].set(glmm_par['beta'].e())\n",
    "    mle_par['mu'].set(glmm_par['mu'].e())\n",
    "    mle_par['tau'].set(glmm_par['tau'].e())\n",
    "    mle_par['u'].set(glmm_par['u'].e())\n",
    "\n",
    "model = logit_glmm.LogisticGLMMMaximumLikelihood(mle_par, prior_par, x_mat, y_vec, y_g_vec)\n",
    "print(model.get_log_lik())\n",
    "\n",
    "objective = Objective(fun=model.get_log_loss, par=model.mle_par)\n",
    "print(objective.fun_free(model.mle_par.get_free()))"
   ]
  },
  {
   "cell_type": "code",
   "execution_count": null,
   "metadata": {},
   "outputs": [],
   "source": [
    "\n",
    "#u_free_init = model.mle_par['u'].get_free()\n",
    "u_free_init = np.random.random(model.mle_par.free_size())\n",
    "objective.logger.initialize()\n",
    "objective.logger.print_every = 20\n",
    "map_time = time.time()\n",
    "mle_opt = optimize.minimize(\n",
    "    lambda par: objective.fun_free(par, verbose=True),\n",
    "    x0=u_free_init,\n",
    "    method='trust-ncg',\n",
    "    jac=objective.fun_free_grad,\n",
    "    hessp=objective.fun_free_hvp,\n",
    "    tol=1e-6, options={'maxiter': 200, 'disp': True, 'gtol': 1e-6 })\n",
    "map_time = time.time() - map_time\n",
    "free_opt = mle_opt.x\n",
    "\n",
    "print(map_time)"
   ]
  },
  {
   "cell_type": "code",
   "execution_count": null,
   "metadata": {},
   "outputs": [],
   "source": [
    "model.mle_par.set_free(free_opt)\n",
    "tau_mle = model.mle_par['u'].get()\n",
    "u_mle = model.mle_par['u'].get()\n",
    "\n",
    "glmm_par.set_free(vb_results['glmm_par_free'])\n",
    "u_vb = glmm_par['u'].e()\n",
    "\n",
    "plt.plot(u_vb, u_mle, 'k.')"
   ]
  },
  {
   "cell_type": "code",
   "execution_count": null,
   "metadata": {},
   "outputs": [],
   "source": [
    "model.mle_par.set_free(free_opt)\n",
    "mle_moment_par = logit_glmm.set_moment_par_from_mle(moment_wrapper.moment_par, model.mle_par)\n",
    "print(mle_moment_par)\n",
    "mle_moment_par_vector = copy.deepcopy(mle_moment_par.get_vector())\n",
    "\n",
    "print('---------\\n')\n",
    "moment_wrapper.set_moments(vb_results['glmm_par_free'])\n",
    "print(moment_wrapper.moment_par)"
   ]
  },
  {
   "cell_type": "code",
   "execution_count": null,
   "metadata": {},
   "outputs": [],
   "source": [
    "# Write the result to a JSON file for use in R.\n",
    "\n",
    "run_name = 'production'\n",
    "\n",
    "pickle_output_filename = os.path.join(data_dir, '%s_python_vb_map_results.pkl' % analysis_name)\n",
    "pickle_output = open(pickle_output_filename, 'wb')\n",
    "\n",
    "# Unlike with JSON, numpy arrays can be pickled.\n",
    "model.mle_par.set_free(free_opt)\n",
    "pickle_result_dict = {  'run_name': run_name,\n",
    "                        'pickle_output_filename': pickle_output_filename,\n",
    "                        'map_time': map_time,\n",
    "                        'mle_moment_par_vector': mle_moment_par_vector,\n",
    "                        'mle_par_dictval': model.mle_par.dictval(),\n",
    "                        'mle_par_vector': model.mle_par.get_vector(),\n",
    "                        'mle_par_free': model.mle_par.get_free()\n",
    "                     }\n",
    "\n",
    "# Pickle dictionary using protocol 0.\n",
    "pickle.dump(pickle_result_dict, pickle_output)\n",
    "pickle_output.close()\n",
    "\n",
    "print(pickle_output_filename)\n",
    "\n",
    "\n",
    "print('\\n\\nDONE.')\n"
   ]
  }
 ],
 "metadata": {
  "kernelspec": {
   "display_name": "Python 3",
   "language": "python",
   "name": "python3"
  },
  "language_info": {
   "codemirror_mode": {
    "name": "ipython",
    "version": 3
   },
   "file_extension": ".py",
   "mimetype": "text/x-python",
   "name": "python",
   "nbconvert_exporter": "python",
   "pygments_lexer": "ipython3",
   "version": "3.5.2"
  }
 },
 "nbformat": 4,
 "nbformat_minor": 2
}
