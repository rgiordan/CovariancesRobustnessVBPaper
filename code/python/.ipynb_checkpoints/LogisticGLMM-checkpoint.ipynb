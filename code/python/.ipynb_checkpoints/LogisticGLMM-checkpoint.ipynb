{
 "cells": [
  {
   "cell_type": "code",
   "execution_count": 1,
   "metadata": {},
   "outputs": [],
   "source": [
    "import copy\n",
    "import json\n",
    "\n",
    "import LinearResponseVariationalBayes as vb\n",
    "import logistic_glmm_lib as logit_glmm\n",
    "import LinearResponseVariationalBayes.SparseObjectives as obj_lib\n",
    "\n",
    "\n",
    "import numpy as np\n",
    "import os\n",
    "import pickle\n",
    "\n",
    "from scikits.sparse.cholmod import cholesky\n",
    "import scipy as sp\n",
    "from scipy.sparse.linalg import LinearOperator\n",
    "\n",
    "import subprocess\n"
   ]
  },
  {
   "cell_type": "code",
   "execution_count": 2,
   "metadata": {},
   "outputs": [
    {
     "name": "stdout",
     "output_type": "stream",
     "text": [
      "dict_keys(['beta_prior_info', 'y', 'N', 'x', 'K', 'y_group', 'mu_prior_mean', 'NG', 'tau_prior_beta', 'mu_prior_info', 'tau_prior_alpha', 'beta_prior_mean'])\n"
     ]
    }
   ],
   "source": [
    "#analysis_name = 'simulated_data_small'\n",
    "analysis_name = 'criteo_subsampled'\n",
    "\n",
    "git_dir_cmd = subprocess.run(\n",
    "    ['git', 'rev-parse', '--show-toplevel'], stdout=subprocess.PIPE)\n",
    "assert git_dir_cmd.returncode == 0\n",
    "git_dir = git_dir_cmd.stdout.decode(\"utf-8\").strip()\n",
    "\n",
    "data_dir = os.path.join(git_dir, 'code/data')\n",
    "json_filename = os.path.join(data_dir, '%s_stan_dat.json' % analysis_name)\n",
    "y_g_vec, y_vec, x_mat, glmm_par, prior_par = logit_glmm.load_json_data(json_filename)\n",
    "\n",
    "num_gh_points = 4\n",
    "\n",
    "timer = obj_lib.Timer()"
   ]
  },
  {
   "cell_type": "code",
   "execution_count": 14,
   "metadata": {
    "collapsed": true
   },
   "outputs": [],
   "source": [
    "# Initialize.\n",
    "\n",
    "# Slightly smarter inits would probably improve fit time, but as of now it doesn't\n",
    "# seem worth explaining in the paper.\n",
    "\n",
    "logit_glmm.initialize_glmm_pars(glmm_par)\n",
    "free_par_vec = glmm_par.get_free()\n",
    "init_par_vec = copy.deepcopy(free_par_vec)\n",
    "prior_par_vec = prior_par.get_vector()\n",
    "\n",
    "model = logit_glmm.LogisticGLMM(\n",
    "    glmm_par, prior_par, x_mat, y_vec, y_g_vec, num_gh_points=num_gh_points)"
   ]
  },
  {
   "cell_type": "code",
   "execution_count": 4,
   "metadata": {
    "scrolled": false
   },
   "outputs": [
    {
     "name": "stdout",
     "output_type": "stream",
     "text": [
      "Running Newton Trust Region.\n",
      "Iter  0  value:  162411.966974\n",
      "Iter  5  value:  54278.7527672\n",
      "Iter  10  value:  30316.991756\n",
      "Iter  15  value:  27875.0951036\n",
      "Iter  20  value:  23778.0948934\n",
      "Iter  25  value:  23080.3649422\n",
      "Iter  30  value:  23018.7845254\n",
      "Iter  35  value:  22984.4458076\n",
      "Iter  40  value:  22970.0742921\n",
      "Iter  45  value:  22970.0291467\n",
      "Optimization terminated successfully.\n",
      "         Current function value: 22970.029147\n",
      "         Iterations: 46\n",
      "         Function evaluations: 47\n",
      "         Gradient evaluations: 47\n",
      "         Hessian evaluations: 0\n",
      "vb_time: 54.087566614151 seconds\n",
      "Done.\n"
     ]
    }
   ],
   "source": [
    "# Optimize.\n",
    "\n",
    "print('Running Newton Trust Region.')\n",
    "timer.tic()\n",
    "vb_opt = model.tr_optimize(init_par_vec, num_gh_points, gtol=1e-6, maxiter=500)\n",
    "opt_x = vb_opt.x\n",
    "timer.toc('vb_time')\n",
    "\n",
    "print('Done.')"
   ]
  },
  {
   "cell_type": "code",
   "execution_count": 5,
   "metadata": {
    "scrolled": false
   },
   "outputs": [
    {
     "name": "stdout",
     "output_type": "stream",
     "text": [
      "KL Hessian...\n",
      "\n",
      "Group 0 of 4999.\n",
      "Group 100 of 4999.\n",
      "Group 200 of 4999.\n",
      "Group 300 of 4999.\n",
      "Group 400 of 4999.\n",
      "Group 500 of 4999.\n",
      "Group 600 of 4999.\n",
      "Group 700 of 4999.\n",
      "Group 800 of 4999.\n",
      "Group 900 of 4999.\n",
      "Group 1000 of 4999.\n",
      "Group 1100 of 4999.\n",
      "Group 1200 of 4999.\n",
      "Group 1300 of 4999.\n",
      "Group 1400 of 4999.\n",
      "Group 1500 of 4999.\n",
      "Group 1600 of 4999.\n",
      "Group 1700 of 4999.\n",
      "Group 1800 of 4999.\n",
      "Group 1900 of 4999.\n",
      "Group 2000 of 4999.\n",
      "Group 2100 of 4999.\n",
      "Group 2200 of 4999.\n",
      "Group 2300 of 4999.\n",
      "Group 2400 of 4999.\n",
      "Group 2500 of 4999.\n",
      "Group 2600 of 4999.\n",
      "Group 2700 of 4999.\n",
      "Group 2800 of 4999.\n",
      "Group 2900 of 4999.\n",
      "Group 3000 of 4999.\n",
      "Group 3100 of 4999.\n",
      "Group 3200 of 4999.\n",
      "Group 3300 of 4999.\n",
      "Group 3400 of 4999.\n",
      "Group 3500 of 4999.\n",
      "Group 3600 of 4999.\n",
      "Group 3700 of 4999.\n",
      "Group 3800 of 4999.\n",
      "Group 3900 of 4999.\n",
      "Group 4000 of 4999.\n",
      "Group 4100 of 4999.\n",
      "Group 4200 of 4999.\n",
      "Group 4300 of 4999.\n",
      "Group 4400 of 4999.\n",
      "Group 4500 of 4999.\n",
      "Group 4600 of 4999.\n",
      "Group 4700 of 4999.\n",
      "Group 4800 of 4999.\n",
      "Group 4900 of 4999.\n",
      "Log prior Hessian...\n",
      "\n",
      "hess_time: 64.42518305778503 seconds\n"
     ]
    }
   ],
   "source": [
    "# Get the Hessians at the number of draws used for optimization\n",
    "model.glmm_par.set_free(opt_x)\n",
    "\n",
    "timer.tic()\n",
    "print('KL Hessian...\\n')\n",
    "kl_hess = model.get_sparse_free_hessian(opt_x, print_every_n=100)\n",
    "\n",
    "print('Log prior Hessian...\\n')\n",
    "log_prior_hess = model.get_prior_hess(prior_par.get_vector(), opt_x)\n",
    "\n",
    "moment_jac = model.moment_wrapper.get_moment_jacobian(opt_x)\n",
    "timer.toc('hess_time')\n"
   ]
  },
  {
   "cell_type": "code",
   "execution_count": 6,
   "metadata": {},
   "outputs": [
    {
     "name": "stdout",
     "output_type": "stream",
     "text": [
      "Solving systems...\n",
      "\n"
     ]
    },
    {
     "name": "stderr",
     "output_type": "stream",
     "text": [
      "/usr/local/lib/python3.5/dist-packages/ipykernel_launcher.py:4: CholmodTypeConversionWarning: converting matrix of class csr_matrix to CSC format\n",
      "  after removing the cwd from sys.path.\n"
     ]
    },
    {
     "name": "stdout",
     "output_type": "stream",
     "text": [
      "inverse_time: 3.7975006103515625 seconds\n",
      "Done\n",
      "\n"
     ]
    }
   ],
   "source": [
    "print('Solving systems...\\n')\n",
    "timer.tic()\n",
    "from scikits.sparse.cholmod import cholesky\n",
    "kl_hess_chol = cholesky(kl_hess)\n",
    "kl_inv_moment_jac = kl_hess_chol.solve_A(moment_jac.T)\n",
    "lrvb_cov = np.matmul(moment_jac, kl_inv_moment_jac)\n",
    "vb_prior_sens = np.matmul(log_prior_hess, kl_inv_moment_jac).T\n",
    "timer.toc('inverse_time')\n",
    "print('Done\\n')\n"
   ]
  },
  {
   "cell_type": "code",
   "execution_count": 7,
   "metadata": {},
   "outputs": [
    {
     "name": "stdout",
     "output_type": "stream",
     "text": [
      "Iter  20\n",
      "Iter  40\n",
      "Iter  60\n",
      "Iter  80\n",
      "cg_row_time: 9.411531448364258 seconds\n",
      "Number of iterations:  81\n",
      "1.10014758009e-06\n"
     ]
    }
   ],
   "source": [
    "# Time using conjugate gradient to get a single row of the moment sensitivity.\n",
    "class OptimumHVP(object):\n",
    "    def __init__(self, glmm_par, opt_x, moment_jac):\n",
    "        self.verbose = False\n",
    "        self.print_every = 10\n",
    "        self.reset_iter()\n",
    "        self.opt_x = opt_x\n",
    "        self.moment_jac = moment_jac\n",
    "        self.lo = LinearOperator(\n",
    "            (glmm_par.free_size(), glmm_par.free_size()), self.hvp)\n",
    "        \n",
    "    def reset_iter(self):\n",
    "        self.iter = 0\n",
    "    \n",
    "    def hvp(self, vec):\n",
    "        self.iter += 1\n",
    "        if self.verbose and self.iter % self.print_every == 0:\n",
    "            print('Iter ', self.iter)\n",
    "        return model.objective.fun_free_hvp(self.opt_x, vec)\n",
    "    \n",
    "    def get_moment_sensitivity_row(self, moment_row):\n",
    "        self.reset_iter()\n",
    "        moment_jac_vec = moment_jac[moment_row, :].flatten()\n",
    "        cg_res, info = sp.sparse.linalg.cg(self.lo, moment_jac_vec)\n",
    "        return cg_res, info\n",
    "\n",
    "moment_row = 0\n",
    "optimum_hvp = OptimumHVP(glmm_par, opt_x, moment_jac)\n",
    "optimum_hvp.verbose = True\n",
    "optimum_hvp.print_every = 20\n",
    "timer.tic()\n",
    "cg_res, info = optimum_hvp.get_moment_sensitivity_row(0)\n",
    "timer.toc('cg_row_time')\n",
    "\n",
    "num_cg_iterations = optimum_hvp.iter\n",
    "print('Number of iterations: ', optimum_hvp.iter)\n",
    "\n",
    "print(np.max(np.abs(cg_res - kl_inv_moment_jac[:, moment_row].flatten())))"
   ]
  },
  {
   "cell_type": "code",
   "execution_count": 13,
   "metadata": {},
   "outputs": [
    {
     "name": "stdout",
     "output_type": "stream",
     "text": [
      "{'run_name': 'production', 'inverse_time': 3.7975006103515625, 'vb_prior_sens': array([[  1.20346449e-03,   2.48348102e-05,  -1.02298969e-04, ...,\n",
      "         -4.00586377e-02,   2.75024161e-04,  -2.22326798e-04],\n",
      "       [  2.48348102e-05,   3.39249107e-05,  -1.79988748e-05, ...,\n",
      "         -1.16151622e-03,   1.16627897e-04,  -9.42808323e-05],\n",
      "       [ -1.02298969e-04,  -1.79988748e-05,   4.19676312e-05, ...,\n",
      "          2.82653131e-03,  -1.08457957e-05,   8.76763344e-06],\n",
      "       ..., \n",
      "       [  2.03368495e-03,   7.14317375e-05,  -1.41907261e-04, ...,\n",
      "         -8.40205484e-02,   2.20295440e-03,  -1.78084644e-03],\n",
      "       [  1.98725620e-03,   4.48083925e-05,  -1.35215111e-04, ...,\n",
      "         -8.00397308e-02,   9.30648941e-05,  -7.52327351e-05],\n",
      "       [  1.99924797e-03,   3.45841373e-05,  -1.25966022e-04, ...,\n",
      "         -8.10599389e-02,   6.09549997e-04,  -4.92754157e-04]]), 'num_groups': 5000, 'kl_hess_packed': {'indptr': array([     0,   5003,   5006, ..., 270086, 270100, 270114], dtype=int32), 'data': array([  4.04196029e+03,  -2.00810035e-02,   2.00810035e-02, ...,\n",
      "        -5.41976026e-06,  -1.27793750e-01,   4.85378524e-01]), 'shape': (10014, 10014), 'indices': array([    0,     2,     3, ...,    13,  5013, 10013], dtype=int32)}, 'hess_time': 64.42518305778503, 'prior_par_vec': <autograd.numpy.numpy_boxes.ArrayBox object at 0x7f646f072588>, 'moment_jac': array([[ 0.,  0.,  0., ...,  0.,  0.,  0.],\n",
      "       [ 0.,  0.,  0., ...,  0.,  0.,  0.],\n",
      "       [ 0.,  0.,  0., ...,  0.,  0.,  0.],\n",
      "       ..., \n",
      "       [ 0.,  0.,  0., ...,  0.,  0.,  0.],\n",
      "       [ 0.,  0.,  0., ...,  0.,  0.,  0.],\n",
      "       [ 0.,  0.,  0., ...,  0.,  0.,  0.]]), 'log_prior_hess': array([[  0.00000000e+00,   0.00000000e+00,   0.00000000e+00, ...,\n",
      "          0.00000000e+00,   0.00000000e+00,   0.00000000e+00],\n",
      "       [  0.00000000e+00,   0.00000000e+00,   0.00000000e+00, ...,\n",
      "          0.00000000e+00,   0.00000000e+00,   0.00000000e+00],\n",
      "       [  0.00000000e+00,   0.00000000e+00,   0.00000000e+00, ...,\n",
      "          0.00000000e+00,   0.00000000e+00,   0.00000000e+00],\n",
      "       ..., \n",
      "       [ -2.00810095e+00,   1.23702355e-04,   0.00000000e+00, ...,\n",
      "          0.00000000e+00,   0.00000000e+00,   0.00000000e+00],\n",
      "       [  0.00000000e+00,   0.00000000e+00,   1.00019979e+00, ...,\n",
      "          0.00000000e+00,   0.00000000e+00,   0.00000000e+00],\n",
      "       [  0.00000000e+00,   0.00000000e+00,  -8.08390057e-01, ...,\n",
      "          0.00000000e+00,   0.00000000e+00,   0.00000000e+00]]), 'beta_dim': 5, 'y_g_vec': array([   5,    5,    5, ..., 1998,   52,   97]), 'lrvb_cov': array([[  1.20346449e-02,   2.48348102e-04,  -1.02298969e-03, ...,\n",
      "          2.03368495e-02,   1.98725620e-02,   1.99924797e-02],\n",
      "       [  2.48348102e-04,   3.39249107e-04,  -1.79988748e-04, ...,\n",
      "          7.14317375e-04,   4.48083925e-04,   3.45841373e-04],\n",
      "       [ -1.02298969e-03,  -1.79988748e-04,   4.19676312e-04, ...,\n",
      "         -1.41907261e-03,  -1.35215111e-03,  -1.25966022e-03],\n",
      "       ..., \n",
      "       [  2.03368495e-02,   7.14317375e-04,  -1.41907261e-03, ...,\n",
      "          6.41027568e-01,   4.02127435e-02,   4.11484437e-02],\n",
      "       [  1.98725620e-02,   4.48083925e-04,  -1.35215111e-03, ...,\n",
      "          4.02127435e-02,   1.04712122e+00,   3.99118030e-02],\n",
      "       [  1.99924797e-02,   3.45841373e-04,  -1.25966022e-03, ...,\n",
      "          4.11484437e-02,   3.99118030e-02,   3.80689635e-01]]), 'glmm_par_vector': array([  2.00810095e+00,   4.04196023e+03,   2.50300095e+03, ...,\n",
      "         1.77005528e+00,   9.93635523e-01,   2.97265664e+00]), 'num_gh_points': 4, 'y_vec': array([0, 0, 1, ..., 1, 0, 0]), 'x_mat': array([[-2.0854, -3.2474, -3.2507, -3.7635, -2.359 ],\n",
      "       [-2.0854, -3.2474, -3.2507, -0.9095, -3.2338],\n",
      "       [-2.0854, -3.2474, -3.2507, -1.0926, -2.9056],\n",
      "       ..., \n",
      "       [-2.0854, -3.2474, -3.2507, -1.7731, -2.3845],\n",
      "       [-2.0854, -3.0446, -3.2507, -3.7635, -3.0303],\n",
      "       [-2.0854, -1.5747, -0.2815, -1.6211, -1.2333]]), 'glmm_par_free': array([  2.00810095e+00,   8.30448506e+00,   7.82524567e+00, ...,\n",
      "         5.71010775e-01,  -6.38481707e-03,   1.08945605e+00]), 'vb_time': 54.087566614151, 'cg_row_time': 9.411531448364258, 'kl_inv_moment_jac': array([[  1.99485348e-02,   5.78422438e-04,  -1.40756502e-03, ...,\n",
      "          4.18409347e-02,   3.98584256e-02,   4.03665036e-02],\n",
      "       [  2.75023481e-04,   1.16627608e-04,  -1.08457689e-05, ...,\n",
      "          2.20294895e-03,   9.30646638e-05,   6.09548489e-04],\n",
      "       [  7.01440859e-15,   4.02510057e-17,  -3.66894015e-16, ...,\n",
      "          1.07435762e-14,   1.20141662e-14,   1.17442948e-14],\n",
      "       ..., \n",
      "       [  1.16739971e-04,   6.00161971e-05,  -6.08577722e-06, ...,\n",
      "          2.51236073e-01,  -4.30534211e-05,   2.92596528e-04],\n",
      "       [  1.96716163e-04,   1.04926339e-04,  -1.92464894e-05, ...,\n",
      "          1.79919151e-03,   5.04195037e-02,   4.98745733e-04],\n",
      "       [  5.66559349e-05,   4.63861070e-05,  -1.66270602e-05, ...,\n",
      "          5.12318082e-04,   1.61219592e-05,   8.96796837e-02]]), 'num_cg_iterations': 81}\n"
     ]
    }
   ],
   "source": [
    "print(pickle_result_dict)"
   ]
  },
  {
   "cell_type": "code",
   "execution_count": 16,
   "metadata": {},
   "outputs": [
    {
     "name": "stdout",
     "output_type": "stream",
     "text": [
      "/home/rgiordan/Documents/git_repos/CovariancesRobustnessVBPaper/code/data/criteo_subsampled_python_vb_results.pkl\n",
      "Done.\n"
     ]
    }
   ],
   "source": [
    "# Write the result to a pickle file for use in subsequent analysis.\n",
    "model.glmm_par.set_free(opt_x)\n",
    "model.prior_par.set_vector(prior_par_vec)\n",
    "\n",
    "run_name = 'production'\n",
    "\n",
    "pickle_output_filename = os.path.join(data_dir, '%s_python_vb_results.pkl' % analysis_name)\n",
    "pickle_output = open(pickle_output_filename, 'wb')\n",
    "\n",
    "# Unlike with JSON, numpy arrays can be pickled directly.\n",
    "# Note that it does not seem that you can pickle a sparse Cholesky decomposition.\n",
    "pickle_result_dict = logit_glmm.get_pickle_dictionary(model, kl_hess, moment_jac)\n",
    "pickle_result_dict.update(\n",
    "                     { 'run_name': run_name,\n",
    "                       'vb_time': timer.time_dict['vb_time'],\n",
    "                       'hess_time': timer.time_dict['hess_time'],\n",
    "                       'inverse_time': timer.time_dict['inverse_time'],\n",
    "                       'cg_row_time': timer.time_dict['cg_row_time'],\n",
    "                       'num_cg_iterations': num_cg_iterations,\n",
    "                       'lrvb_cov': np.squeeze(lrvb_cov),\n",
    "                       'kl_inv_moment_jac': kl_inv_moment_jac,\n",
    "                       'vb_prior_sens': np.squeeze(vb_prior_sens),\n",
    "                       'log_prior_hess': np.squeeze(log_prior_hess) })\n",
    "\n",
    "# Pickle dictionary.\n",
    "pickle.dump(pickle_result_dict, pickle_output)\n",
    "pickle_output.close()\n",
    "\n",
    "print(pickle_output_filename)\n",
    "\n",
    "print('Done.')\n"
   ]
  }
 ],
 "metadata": {
  "kernelspec": {
   "display_name": "Python 3",
   "language": "python",
   "name": "python3"
  },
  "language_info": {
   "codemirror_mode": {
    "name": "ipython",
    "version": 3
   },
   "file_extension": ".py",
   "mimetype": "text/x-python",
   "name": "python",
   "nbconvert_exporter": "python",
   "pygments_lexer": "ipython3",
   "version": "3.5.2"
  }
 },
 "nbformat": 4,
 "nbformat_minor": 1
}
